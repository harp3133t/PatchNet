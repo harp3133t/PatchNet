{
 "cells": [
  {
   "cell_type": "code",
   "execution_count": 31,
   "id": "5029c0c9-705d-4be2-8b75-7c45b491d848",
   "metadata": {},
   "outputs": [],
   "source": [
    "import numpy as np\n",
    "import torch\n",
    "import torch.nn as nn\n",
    "from sklearn.model_selection import train_test_split"
   ]
  },
  {
   "cell_type": "code",
   "execution_count": 5,
   "id": "f79b5403-8eaf-4b2a-a022-84a074ccec49",
   "metadata": {},
   "outputs": [],
   "source": [
    "array = np.eye(3136, dtype = 'float32')"
   ]
  },
  {
   "cell_type": "code",
   "execution_count": 6,
   "id": "0a84e3ac-f15f-4165-9304-c15e5b4e411c",
   "metadata": {},
   "outputs": [
    {
     "data": {
      "text/plain": [
       "(3136, 3136)"
      ]
     },
     "execution_count": 6,
     "metadata": {},
     "output_type": "execute_result"
    }
   ],
   "source": [
    "array.shape"
   ]
  },
  {
   "cell_type": "code",
   "execution_count": 7,
   "id": "e474477c-8d68-4501-ab11-9273817a754c",
   "metadata": {},
   "outputs": [],
   "source": [
    "array = array.reshape((3136, 56, 56, 1))"
   ]
  },
  {
   "cell_type": "code",
   "execution_count": 8,
   "id": "35b380e4-5ade-4f82-acc5-99883542f640",
   "metadata": {},
   "outputs": [
    {
     "data": {
      "text/plain": [
       "(3136, 56, 56, 1)"
      ]
     },
     "execution_count": 8,
     "metadata": {},
     "output_type": "execute_result"
    }
   ],
   "source": [
    "array.shape"
   ]
  },
  {
   "cell_type": "code",
   "execution_count": 9,
   "id": "949f17ad-9afd-43eb-960b-3f62b632d9d8",
   "metadata": {},
   "outputs": [],
   "source": [
    "onehots = np.pad(array,((0, 0), (4, 4), (4, 4), (0, 0)), mode=\"constant\")"
   ]
  },
  {
   "cell_type": "code",
   "execution_count": 10,
   "id": "78adf0a2-fe96-4eb1-8954-b4768cc73696",
   "metadata": {},
   "outputs": [
    {
     "data": {
      "text/plain": [
       "(3136, 64, 64, 1)"
      ]
     },
     "execution_count": 10,
     "metadata": {},
     "output_type": "execute_result"
    }
   ],
   "source": [
    "onehots.shape"
   ]
  },
  {
   "cell_type": "code",
   "execution_count": 11,
   "id": "529f5754-8061-45d1-8a8b-fd2060a544e3",
   "metadata": {},
   "outputs": [
    {
     "data": {
      "text/plain": [
       "(3136, 1, 64, 64)"
      ]
     },
     "execution_count": 11,
     "metadata": {},
     "output_type": "execute_result"
    }
   ],
   "source": [
    "onehots = onehots.transpose(0, 3, 1, 2)\n",
    "onehots.shape"
   ]
  },
  {
   "cell_type": "code",
   "execution_count": 15,
   "id": "674a354e-b3d2-42a4-ba36-1b072382f45d",
   "metadata": {},
   "outputs": [
    {
     "data": {
      "text/plain": [
       "torch.Size([3136, 1, 64, 64])"
      ]
     },
     "execution_count": 15,
     "metadata": {},
     "output_type": "execute_result"
    }
   ],
   "source": [
    "onehots_tensor = torch.from_numpy(onehots)\n",
    "onehots_tensor.shape"
   ]
  },
  {
   "cell_type": "code",
   "execution_count": 17,
   "id": "ea84e49f-2fe7-42f5-9efd-c277905d75cf",
   "metadata": {},
   "outputs": [],
   "source": [
    "conv_layer = nn.Conv2d(in_channels=1, out_channels=1, kernel_size=(9,9), padding=4, stride=1)"
   ]
  },
  {
   "cell_type": "code",
   "execution_count": 24,
   "id": "08a2ff95-5502-4c08-9628-fb9911e8323c",
   "metadata": {},
   "outputs": [
    {
     "data": {
      "text/plain": [
       "torch.Size([1, 1, 9, 9])"
      ]
     },
     "execution_count": 24,
     "metadata": {},
     "output_type": "execute_result"
    }
   ],
   "source": [
    "w = torch.ones(1, 1, 9, 9)\n",
    "w.shape"
   ]
  },
  {
   "cell_type": "code",
   "execution_count": 23,
   "id": "9f54f6bb-257f-40cb-a109-baa83b3f96aa",
   "metadata": {},
   "outputs": [
    {
     "data": {
      "text/plain": [
       "torch.Size([1, 1, 9, 9])"
      ]
     },
     "execution_count": 23,
     "metadata": {},
     "output_type": "execute_result"
    }
   ],
   "source": [
    "conv_layer.weight.data.shape"
   ]
  },
  {
   "cell_type": "code",
   "execution_count": 25,
   "id": "bde39c38-eeb2-4915-a4f4-7d15bb9dbdbb",
   "metadata": {},
   "outputs": [],
   "source": [
    "conv_layer.weight.data = w"
   ]
  },
  {
   "cell_type": "code",
   "execution_count": 26,
   "id": "eccc0bbf-ca35-49e0-beb0-ca875224e9f6",
   "metadata": {},
   "outputs": [],
   "source": [
    "images_tensor = conv_layer(onehots_tensor)"
   ]
  },
  {
   "cell_type": "code",
   "execution_count": 28,
   "id": "b4ad2e40-d491-4c95-8dae-383c9e4e3b7b",
   "metadata": {},
   "outputs": [
    {
     "data": {
      "text/plain": [
       "(3136, 1, 64, 64)"
      ]
     },
     "execution_count": 28,
     "metadata": {},
     "output_type": "execute_result"
    }
   ],
   "source": [
    "images = images_tensor.detach().numpy()\n",
    "images.shape"
   ]
  },
  {
   "cell_type": "code",
   "execution_count": 30,
   "id": "2a2e4ca4-b45a-482f-9b1e-f178f9f6704b",
   "metadata": {},
   "outputs": [
    {
     "data": {
      "text/plain": [
       "(3136,)"
      ]
     },
     "execution_count": 30,
     "metadata": {},
     "output_type": "execute_result"
    }
   ],
   "source": [
    "indices = np.arange(0, len(onehots), dtype='int32')\n",
    "indices.shape"
   ]
  },
  {
   "cell_type": "code",
   "execution_count": 32,
   "id": "1d1c491b-6e35-450c-8519-0cfcda191929",
   "metadata": {},
   "outputs": [],
   "source": [
    "train, test = train_test_split(indices, test_size=0.2, random_state=0)"
   ]
  },
  {
   "cell_type": "code",
   "execution_count": 33,
   "id": "a4d9026b-0d6a-4efc-aa5a-d128311d064c",
   "metadata": {},
   "outputs": [
    {
     "data": {
      "text/plain": [
       "array([1184, 2902,  113, ..., 1653, 2607, 2732])"
      ]
     },
     "execution_count": 33,
     "metadata": {},
     "output_type": "execute_result"
    }
   ],
   "source": [
    "train"
   ]
  },
  {
   "cell_type": "code",
   "execution_count": 35,
   "id": "3c6bbb09-1877-48a9-b358-5c8b1019fb99",
   "metadata": {},
   "outputs": [
    {
     "data": {
      "text/plain": [
       "array([[[[1.0079893, 1.0079893, 1.0079893, ..., 0.0079893, 0.0079893,\n",
       "          0.0079893],\n",
       "         [1.0079893, 1.0079893, 1.0079893, ..., 0.0079893, 0.0079893,\n",
       "          0.0079893],\n",
       "         [1.0079893, 1.0079893, 1.0079893, ..., 0.0079893, 0.0079893,\n",
       "          0.0079893],\n",
       "         ...,\n",
       "         [0.0079893, 0.0079893, 0.0079893, ..., 0.0079893, 0.0079893,\n",
       "          0.0079893],\n",
       "         [0.0079893, 0.0079893, 0.0079893, ..., 0.0079893, 0.0079893,\n",
       "          0.0079893],\n",
       "         [0.0079893, 0.0079893, 0.0079893, ..., 0.0079893, 0.0079893,\n",
       "          0.0079893]]],\n",
       "\n",
       "\n",
       "       [[[0.0079893, 1.0079893, 1.0079893, ..., 0.0079893, 0.0079893,\n",
       "          0.0079893],\n",
       "         [0.0079893, 1.0079893, 1.0079893, ..., 0.0079893, 0.0079893,\n",
       "          0.0079893],\n",
       "         [0.0079893, 1.0079893, 1.0079893, ..., 0.0079893, 0.0079893,\n",
       "          0.0079893],\n",
       "         ...,\n",
       "         [0.0079893, 0.0079893, 0.0079893, ..., 0.0079893, 0.0079893,\n",
       "          0.0079893],\n",
       "         [0.0079893, 0.0079893, 0.0079893, ..., 0.0079893, 0.0079893,\n",
       "          0.0079893],\n",
       "         [0.0079893, 0.0079893, 0.0079893, ..., 0.0079893, 0.0079893,\n",
       "          0.0079893]]],\n",
       "\n",
       "\n",
       "       [[[0.0079893, 0.0079893, 1.0079893, ..., 0.0079893, 0.0079893,\n",
       "          0.0079893],\n",
       "         [0.0079893, 0.0079893, 1.0079893, ..., 0.0079893, 0.0079893,\n",
       "          0.0079893],\n",
       "         [0.0079893, 0.0079893, 1.0079893, ..., 0.0079893, 0.0079893,\n",
       "          0.0079893],\n",
       "         ...,\n",
       "         [0.0079893, 0.0079893, 0.0079893, ..., 0.0079893, 0.0079893,\n",
       "          0.0079893],\n",
       "         [0.0079893, 0.0079893, 0.0079893, ..., 0.0079893, 0.0079893,\n",
       "          0.0079893],\n",
       "         [0.0079893, 0.0079893, 0.0079893, ..., 0.0079893, 0.0079893,\n",
       "          0.0079893]]],\n",
       "\n",
       "\n",
       "       ...,\n",
       "\n",
       "\n",
       "       [[[0.0079893, 0.0079893, 0.0079893, ..., 0.0079893, 0.0079893,\n",
       "          0.0079893],\n",
       "         [0.0079893, 0.0079893, 0.0079893, ..., 0.0079893, 0.0079893,\n",
       "          0.0079893],\n",
       "         [0.0079893, 0.0079893, 0.0079893, ..., 0.0079893, 0.0079893,\n",
       "          0.0079893],\n",
       "         ...,\n",
       "         [0.0079893, 0.0079893, 0.0079893, ..., 1.0079893, 0.0079893,\n",
       "          0.0079893],\n",
       "         [0.0079893, 0.0079893, 0.0079893, ..., 1.0079893, 0.0079893,\n",
       "          0.0079893],\n",
       "         [0.0079893, 0.0079893, 0.0079893, ..., 1.0079893, 0.0079893,\n",
       "          0.0079893]]],\n",
       "\n",
       "\n",
       "       [[[0.0079893, 0.0079893, 0.0079893, ..., 0.0079893, 0.0079893,\n",
       "          0.0079893],\n",
       "         [0.0079893, 0.0079893, 0.0079893, ..., 0.0079893, 0.0079893,\n",
       "          0.0079893],\n",
       "         [0.0079893, 0.0079893, 0.0079893, ..., 0.0079893, 0.0079893,\n",
       "          0.0079893],\n",
       "         ...,\n",
       "         [0.0079893, 0.0079893, 0.0079893, ..., 1.0079893, 1.0079893,\n",
       "          0.0079893],\n",
       "         [0.0079893, 0.0079893, 0.0079893, ..., 1.0079893, 1.0079893,\n",
       "          0.0079893],\n",
       "         [0.0079893, 0.0079893, 0.0079893, ..., 1.0079893, 1.0079893,\n",
       "          0.0079893]]],\n",
       "\n",
       "\n",
       "       [[[0.0079893, 0.0079893, 0.0079893, ..., 0.0079893, 0.0079893,\n",
       "          0.0079893],\n",
       "         [0.0079893, 0.0079893, 0.0079893, ..., 0.0079893, 0.0079893,\n",
       "          0.0079893],\n",
       "         [0.0079893, 0.0079893, 0.0079893, ..., 0.0079893, 0.0079893,\n",
       "          0.0079893],\n",
       "         ...,\n",
       "         [0.0079893, 0.0079893, 0.0079893, ..., 1.0079893, 1.0079893,\n",
       "          1.0079893],\n",
       "         [0.0079893, 0.0079893, 0.0079893, ..., 1.0079893, 1.0079893,\n",
       "          1.0079893],\n",
       "         [0.0079893, 0.0079893, 0.0079893, ..., 1.0079893, 1.0079893,\n",
       "          1.0079893]]]], dtype=float32)"
      ]
     },
     "execution_count": 35,
     "metadata": {},
     "output_type": "execute_result"
    }
   ],
   "source": [
    "images"
   ]
  },
  {
   "cell_type": "code",
   "execution_count": null,
   "id": "f3f01e9b-0861-46d5-ab6b-7365deacf6a9",
   "metadata": {},
   "outputs": [],
   "source": []
  }
 ],
 "metadata": {
  "kernelspec": {
   "display_name": "Python 3",
   "language": "python",
   "name": "python3"
  },
  "language_info": {
   "codemirror_mode": {
    "name": "ipython",
    "version": 3
   },
   "file_extension": ".py",
   "mimetype": "text/x-python",
   "name": "python",
   "nbconvert_exporter": "python",
   "pygments_lexer": "ipython3",
   "version": "3.6.13"
  }
 },
 "nbformat": 4,
 "nbformat_minor": 5
}
