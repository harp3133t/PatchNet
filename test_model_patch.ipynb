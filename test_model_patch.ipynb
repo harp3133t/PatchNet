{
 "cells": [
  {
   "cell_type": "code",
   "execution_count": 1,
   "id": "c0055997-301e-4097-b71b-cc2e323334e3",
   "metadata": {},
   "outputs": [],
   "source": [
    "from models.resnet import *\n",
    "from Stack_LIME import *\n",
    "from coordconv import *\n",
    "\n",
    "import glob\n",
    "\n",
    "from IPython.display import clear_output\n",
    "\n",
    "from pytorch_lightning import LightningModule, Trainer\n",
    "\n",
    "import torch\n",
    "from torch.utils.data import DataLoader, random_split\n",
    "import torch.nn as nn\n",
    "from torch.nn import functional as F\n",
    "from torch.utils.data import Dataset, DataLoader, random_split\n",
    "\n",
    "import torchvision\n",
    "from torchvision import transforms\n",
    "from torchvision.datasets import CIFAR10\n",
    "\n",
    "import torchmetrics\n",
    "\n",
    "torch.manual_seed(17)\n",
    "tf = transforms.ToPILImage()"
   ]
  },
  {
   "cell_type": "code",
   "execution_count": 2,
   "id": "286de8b0-1283-4a86-8b02-db33799819f5",
   "metadata": {},
   "outputs": [],
   "source": [
    "def create_folder(name):\n",
    "    try:\n",
    "        if not os.path.exists(name):\n",
    "            os.makedirs(name)\n",
    "    except OSError:\n",
    "        print ('Error: Creating directory. ' + name)"
   ]
  },
  {
   "cell_type": "code",
   "execution_count": 3,
   "id": "f542d33b-3268-4e6a-84ef-34bf704bdb6d",
   "metadata": {},
   "outputs": [],
   "source": [
    "class UnNormalize(object):\n",
    "    def __init__(self, mean, std):\n",
    "        self.mean = mean\n",
    "        self.std = std\n",
    "\n",
    "    def __call__(self, tensor):\n",
    "        \"\"\"\n",
    "        Args:\n",
    "            tensor (Tensor): Tensor image of size (C, H, W) to be normalized.\n",
    "        Returns:\n",
    "            Tensor: Normalized image.\n",
    "        \"\"\"\n",
    "        for t, m, s in zip(tensor, self.mean, self.std):\n",
    "            t.mul_(s).add_(m)\n",
    "            # The normalize code -> t.sub_(m).div_(s)\n",
    "        return tensor"
   ]
  },
  {
   "cell_type": "code",
   "execution_count": 4,
   "id": "16db64b8-a0fe-42e7-918d-c0544dcf7051",
   "metadata": {},
   "outputs": [],
   "source": [
    "class CNN(LightningModule):\n",
    "    def __init__(self, batch_size = 200, num_workers = 0, train_dataset = None,\n",
    "    test_dataset = None):\n",
    "        super().__init__()\n",
    "        self.model = resnet50(pretrained=False, progress=True, device=\"cuda\")\n",
    "#         self.model = torchvision.models.squeezenet1_1()\n",
    "#         self.model.features[0] = nn.Sequential(CoordConv2d(3, 32, 1, with_r=True),nn.Conv2d(32,64,3))\n",
    "#         self.model.classifier[1] = nn.Conv2d(512, 10, 1, 1)\n",
    "        self.num_workers = num_workers\n",
    "        self.batch_size = batch_size\n",
    "        self.train_dataset = train_dataset\n",
    "        self.test_dataset = test_dataset\n",
    "        self.metrics = torchmetrics.Accuracy()\n",
    "        \n",
    "    def restart(self, batch_size = 200, num_workers = 0, train_dataset = None,test_dataset = None):\n",
    "        self.num_workers = num_workers\n",
    "        self.batch_size = batch_size\n",
    "        self.train_dataset = train_dataset\n",
    "        self.test_dataset = test_dataset\n",
    "        self.metrics = torchmetrics.Accuracy()\n",
    "        \n",
    "    def forward(self, x):\n",
    "        x = self.model(x)\n",
    "        return x\n",
    "\n",
    "    def training_step(self, batch, batch_nb):\n",
    "        x, y = batch\n",
    "        loss = F.cross_entropy(self(x), y)\n",
    "        self.log(\"train_loss\", loss, on_step=True, on_epoch=True, prog_bar=True, logger=True)\n",
    "        return loss\n",
    "\n",
    "    def validation_step(self, batch, batch_idx):\n",
    "        x, y = batch\n",
    "        logits = self(x)\n",
    "        loss = F.cross_entropy(logits, y)\n",
    "        acc = self.metrics(logits, y)\n",
    "        metrics = {\"val_acc\": acc, \"val_loss\": loss}\n",
    "        self.log_dict(metrics)\n",
    "        return loss\n",
    "\n",
    "    def test_step(self, batch, batch_idx):\n",
    "        x, y = batch\n",
    "        x=x.to('cpu')\n",
    "        img = np.array(x)\n",
    "        \n",
    "#         print('img shape:',img.shape)\n",
    "#         print('y shape:', y.shape)\n",
    "#         print('y[0]:', y[0])\n",
    "#         print('#################################')\n",
    "        \n",
    "        batch_size, channel, width,height = img.shape\n",
    "        half_width = int(width/2)\n",
    "        half_height = int(height/2)\n",
    "        loss = 0\n",
    "        acc = 0\n",
    "        for i in range(batch_size):\n",
    "            img_list_4 = [img[i, :, :half_width, :half_height],\n",
    "                    img[i, :, half_width:, :half_height],\n",
    "                    img[i, :, :half_width, half_height:],\n",
    "                    img[i, :, half_width:, half_height:]]\n",
    "            img_list_4 = torch.tensor(img_list_4)\n",
    "            img_list_4 = img_list_4.to('cuda')\n",
    "\n",
    "            loss_l = 0\n",
    "            acc_l = torch.tensor([[0. for i in range(10)]])\n",
    "            acc_l = acc_l.to('cuda')\n",
    "            for j in range(len(img_list_4)):\n",
    "                # print('img shape:', img_l.shape)\n",
    "                \n",
    "                # print('gt:',y[i].unsqueeze(0))\n",
    "                logits = self(img_list_4[j].unsqueeze(0))\n",
    "                #print('logits:',logits)\n",
    "                # print('pred:',logits.shape)\n",
    "                loss_l += F.cross_entropy(logits, y[i].unsqueeze(0))\n",
    "                acc_l += logits\n",
    "                #print('acc:',acc_l)\n",
    "            loss += loss_l / 4\n",
    "            acc += self.metrics(acc_l/4, y[i].unsqueeze(0))\n",
    "        loss /= batch_size\n",
    "        acc /= batch_size\n",
    "#         logits = self(x)\n",
    "#         loss = F.cross_entropy(logits, y)\n",
    "#         acc = self.metrics(logits, y)\n",
    "        metrics = {\"test_acc\": acc, \"test_loss\": loss}\n",
    "        self.log_dict(metrics)\n",
    "        return loss\n",
    "\n",
    "    def configure_optimizers(self):\n",
    "        return torch.optim.Adam(self.parameters(), lr=0.1)\n",
    "\n",
    "    def setup(self, stage = None):\n",
    "        if stage == 'fit' or stage is None:\n",
    "            dataset = self.train_dataset\n",
    "            dataset_size = dataset.__len__()\n",
    "            self.train_ds, self.val_ds = random_split(dataset, [int(dataset_size * 0.9) , int(dataset_size * 0.1)])\n",
    "\n",
    "\n",
    "        if stage == 'test' or stage is None:\n",
    "            self.test_ds = self.test_dataset\n",
    "\n",
    "    def train_dataloader(self):\n",
    "        return DataLoader(self.train_ds, batch_size=self.batch_size, num_workers = self.num_workers, pin_memory=True)\n",
    "\n",
    "    def val_dataloader(self):\n",
    "        return DataLoader(self.val_ds, batch_size=self.batch_size, num_workers = self.num_workers, pin_memory=True)\n",
    "\n",
    "    def test_dataloader(self):\n",
    "        return DataLoader(self.test_ds, batch_size=self.batch_size, num_workers = self.num_workers, pin_memory=True)"
   ]
  },
  {
   "cell_type": "code",
   "execution_count": 23,
   "id": "019ff27c-32d8-440e-af9c-8681a676f11a",
   "metadata": {},
   "outputs": [],
   "source": [
    "class CIFAR10_edit(Dataset):\n",
    "    def __init__(self, img_dir, labels, transform = None):\n",
    "        self.img_dir = img_dir\n",
    "        self.img_labels = glob.glob(img_dir+'/*')\n",
    "        self.img = []\n",
    "        for k in self.img_labels:\n",
    "            imgs = glob.glob(k + '/*')\n",
    "            self.img += imgs\n",
    "        self.transform = transform\n",
    "        self.labels = labels\n",
    "\n",
    "    def __len__(self):\n",
    "        return len(self.img)\n",
    "\n",
    "    def __getitem__(self, idx):\n",
    "        img_path = self.img[idx]\n",
    "        \n",
    "        image = Image.open(img_path)\n",
    "        image = np.array(image)\n",
    "\n",
    "        label = img_path.split('/')\n",
    "        print(label)\n",
    "        label = label[2].split('\\\\')[1]\n",
    "        label = self.labels.index(label)\n",
    "        \n",
    "        if self.transform:\n",
    "            image = self.transform(image)\n",
    "        \n",
    "        return image, label\n"
   ]
  },
  {
   "cell_type": "code",
   "execution_count": 25,
   "id": "cc7074bd-cbc7-4f15-91c3-edb6da31b4f7",
   "metadata": {},
   "outputs": [],
   "source": [
    "transform = transforms.Compose([\n",
    "            transforms.ToTensor(),\n",
    "            transforms.Resize((32,32)),\n",
    "            transforms.Normalize([0.5, 0.5, 0.5], [0.5, 0.5, 0.5]),\n",
    "    ])\n",
    "unorm = UnNormalize(mean=(0.5, 0.5, 0.5), std=(0.5, 0.5, 0.5))"
   ]
  },
  {
   "cell_type": "code",
   "execution_count": 38,
   "id": "f97c8922-2605-4383-a25c-6d043f2b02dd",
   "metadata": {},
   "outputs": [],
   "source": [
    "labels = ['airplane', 'automobile', 'bird','cat', 'deer', 'dog', 'frog', 'horse', 'ship', 'truck']\n",
    "\n",
    "train_data = CIFAR10_edit('./data/edit_img_b', labels = labels, transform = transform)\n",
    "#train_data = CIFAR10('./data/cifar10', train = True, download = False, transform = transform)\n",
    "test_data = CIFAR10('./data/cifar10', train = False, download = False, transform = transform)"
   ]
  },
  {
   "cell_type": "code",
   "execution_count": 27,
   "id": "8be6027d-1f8b-4048-9cda-08686f11b4f6",
   "metadata": {},
   "outputs": [],
   "source": [
    "model = CNN(batch_size = 512, num_workers = 0 ,\n",
    "            train_dataset = train_data, test_dataset = test_data)"
   ]
  },
  {
   "cell_type": "code",
   "execution_count": 28,
   "id": "1e57b1ee-ebb3-468d-ac6c-4a79749120e5",
   "metadata": {},
   "outputs": [],
   "source": [
    "chk_path = \"./model/resnet50_orig_split.ckpt\"\n",
    "model = model.load_from_checkpoint(chk_path)\n",
    "model.restart(batch_size = 512, num_workers = 8 ,\n",
    "            train_dataset = train_data, test_dataset = test_data)"
   ]
  },
  {
   "cell_type": "code",
   "execution_count": 10,
   "id": "a4fdb1c9-a726-42b3-a7cb-a8ef6791e0e1",
   "metadata": {},
   "outputs": [
    {
     "name": "stderr",
     "output_type": "stream",
     "text": [
      "GPU available: True, used: True\n",
      "TPU available: False, using: 0 TPU cores\n",
      "IPU available: False, using: 0 IPUs\n"
     ]
    }
   ],
   "source": [
    "trainer = Trainer(accelerator = 'gpu', devices = 1 , max_epochs = 200)"
   ]
  },
  {
   "cell_type": "code",
   "execution_count": 28,
   "id": "6fd54cbc-5d92-4c8d-a69f-220f6a7414ef",
   "metadata": {},
   "outputs": [
    {
     "name": "stderr",
     "output_type": "stream",
     "text": [
      "LOCAL_RANK: 0 - CUDA_VISIBLE_DEVICES: [0]\n"
     ]
    },
    {
     "data": {
      "application/vnd.jupyter.widget-view+json": {
       "model_id": "203f238a02004af0859d86b4dc09a1a1",
       "version_major": 2,
       "version_minor": 0
      },
      "text/plain": [
       "Testing: 0it [00:00, ?it/s]"
      ]
     },
     "metadata": {},
     "output_type": "display_data"
    },
    {
     "name": "stdout",
     "output_type": "stream",
     "text": [
      "--------------------------------------------------------------------------------\n",
      "DATALOADER:0 TEST RESULTS\n",
      "{'test_acc': 0.1023000031709671, 'test_loss': 2010.4176025390625}\n",
      "--------------------------------------------------------------------------------\n"
     ]
    },
    {
     "data": {
      "text/plain": [
       "[{'test_acc': 0.1023000031709671, 'test_loss': 2010.4176025390625}]"
      ]
     },
     "execution_count": 28,
     "metadata": {},
     "output_type": "execute_result"
    }
   ],
   "source": [
    "model.setup(None)\n",
    "trainer.test(model)"
   ]
  },
  {
   "cell_type": "code",
   "execution_count": null,
   "id": "2c9df6c0-1f56-41f4-ae87-8054d59b67d4",
   "metadata": {},
   "outputs": [],
   "source": [
    "model.setup('fit')\n",
    "trainer.validate(model)"
   ]
  },
  {
   "cell_type": "code",
   "execution_count": null,
   "id": "fe5f12a0-6a6f-4c4a-8d6a-d99e682f8a88",
   "metadata": {},
   "outputs": [],
   "source": [
    "a = torch.tensor([[1,2,3,4,5]])\n",
    "# a.append(torch.tensor([1,2,3,6,7]))\n",
    "# a.append(torch.tensor([5,3,4,2,4]))\n",
    "print(a)\n",
    "c = torch.stack(a, dim =1)\n",
    "# c = torch.stack([c,d], dim = 0)\n",
    "c"
   ]
  },
  {
   "cell_type": "code",
   "execution_count": 39,
   "id": "2df0b71d-2c6e-4971-abb3-90db3703bb6b",
   "metadata": {},
   "outputs": [
    {
     "name": "stdout",
     "output_type": "stream",
     "text": [
      "Model Loaded . . . \n",
      "Device is a cuda:0. . . \n",
      "transform setting finish . . .\n",
      "Clear!\n"
     ]
    }
   ],
   "source": [
    "stack_xai = Stack_XAI(model, transform)"
   ]
  },
  {
   "cell_type": "code",
   "execution_count": 40,
   "id": "cf115ca9-8a85-4e72-a220-cd1dad6b2a05",
   "metadata": {},
   "outputs": [
    {
     "name": "stderr",
     "output_type": "stream",
     "text": [
      "c:\\users\\jh\\anaconda3\\envs\\ispin\\lib\\site-packages\\lime\\wrappers\\scikit_image.py:117: FutureWarning: skimage.measure.label's indexing starts from 0. In future version it will start from 1. To disable this warning, explicitely set the `start_label` parameter to 1.\n",
      "  return self.target_fn(args[0], **self.target_params)\n",
      " 30% |#####################                                                   |\r"
     ]
    },
    {
     "name": "stdout",
     "output_type": "stream",
     "text": [
      "['.', 'data', 'edit_img_b\\\\airplane\\\\10008.jpg']\n"
     ]
    },
    {
     "name": "stderr",
     "output_type": "stream",
     "text": [
      "100% |########################################################################|\n"
     ]
    },
    {
     "data": {
      "text/plain": [
       "<matplotlib.image.AxesImage at 0x20d8f7f9860>"
      ]
     },
     "execution_count": 40,
     "metadata": {},
     "output_type": "execute_result"
    },
    {
     "data": {
      "image/png": "[encoded data removed]",
      "text/plain": [
       "<Figure size 432x288 with 1 Axes>"
      ]
     },
     "metadata": {
      "needs_background": "light"
     },
     "output_type": "display_data"
    }
   ],
   "source": [
    "x, y = train_data[0]\n",
    "x = tf(unorm(x))\n",
    "t, m = stack_xai.explain(x, XAI = 'LIME', n_seg = 100, n_samples = 100)\n",
    "plt.imshow(t)"
   ]
  },
  {
   "cell_type": "code",
   "execution_count": 41,
   "id": "848ac8e1-74d6-4355-880e-a7f4a7ad2feb",
   "metadata": {},
   "outputs": [
    {
     "name": "stderr",
     "output_type": "stream",
     "text": [
      "c:\\users\\jh\\anaconda3\\envs\\ispin\\lib\\site-packages\\lime\\wrappers\\scikit_image.py:117: FutureWarning: skimage.measure.label's indexing starts from 0. In future version it will start from 1. To disable this warning, explicitely set the `start_label` parameter to 1.\n",
      "  return self.target_fn(args[0], **self.target_params)\n",
      " 50% |####################################                                    |\r"
     ]
    },
    {
     "name": "stdout",
     "output_type": "stream",
     "text": [
      "['.', 'data', 'edit_img_b\\\\airplane\\\\10010.jpg']\n"
     ]
    },
    {
     "name": "stderr",
     "output_type": "stream",
     "text": [
      "100% |########################################################################|\n"
     ]
    },
    {
     "data": {
      "text/plain": [
       "<matplotlib.image.AxesImage at 0x20d8fa35ac8>"
      ]
     },
     "execution_count": 41,
     "metadata": {},
     "output_type": "execute_result"
    },
    {
     "data": {
      "image/png": "[encoded data removed]",
      "text/plain": [
       "<Figure size 432x288 with 1 Axes>"
      ]
     },
     "metadata": {
      "needs_background": "light"
     },
     "output_type": "display_data"
    }
   ],
   "source": [
    "x, y = train_data[1]\n",
    "x = tf(unorm(x))\n",
    "t, m = stack_xai.explain(x, XAI = 'LIME', n_seg = 100, n_samples = 100)\n",
    "plt.imshow(t)"
   ]
  },
  {
   "cell_type": "code",
   "execution_count": 42,
   "id": "3847c136-6ee0-4cf8-b9d2-a20a713c72e9",
   "metadata": {},
   "outputs": [
    {
     "name": "stderr",
     "output_type": "stream",
     "text": [
      "c:\\users\\jh\\anaconda3\\envs\\ispin\\lib\\site-packages\\lime\\wrappers\\scikit_image.py:117: FutureWarning: skimage.measure.label's indexing starts from 0. In future version it will start from 1. To disable this warning, explicitely set the `start_label` parameter to 1.\n",
      "  return self.target_fn(args[0], **self.target_params)\n",
      " 80% |#########################################################               |\r"
     ]
    },
    {
     "name": "stdout",
     "output_type": "stream",
     "text": [
      "['.', 'data', 'edit_img_b\\\\airplane\\\\10020.jpg']\n"
     ]
    },
    {
     "name": "stderr",
     "output_type": "stream",
     "text": [
      "100% |########################################################################|\n"
     ]
    },
    {
     "data": {
      "text/plain": [
       "<matplotlib.image.AxesImage at 0x20d8fa9ccf8>"
      ]
     },
     "execution_count": 42,
     "metadata": {},
     "output_type": "execute_result"
    },
    {
     "data": {
      "image/png": "[encoded data removed]",
      "text/plain": [
       "<Figure size 432x288 with 1 Axes>"
      ]
     },
     "metadata": {
      "needs_background": "light"
     },
     "output_type": "display_data"
    }
   ],
   "source": [
    "x, y = train_data[2]\n",
    "x = tf(unorm(x))\n",
    "t, m = stack_xai.explain(x, XAI = 'LIME', n_seg = 100, n_samples = 100)\n",
    "plt.imshow(t)"
   ]
  },
  {
   "cell_type": "code",
   "execution_count": 43,
   "id": "b473bb1a-5f85-466f-b931-6c84ef05579a",
   "metadata": {},
   "outputs": [
    {
     "name": "stderr",
     "output_type": "stream",
     "text": [
      "c:\\users\\jh\\anaconda3\\envs\\ispin\\lib\\site-packages\\lime\\wrappers\\scikit_image.py:117: FutureWarning: skimage.measure.label's indexing starts from 0. In future version it will start from 1. To disable this warning, explicitely set the `start_label` parameter to 1.\n",
      "  return self.target_fn(args[0], **self.target_params)\n",
      " 29% |####################                                                    |\r"
     ]
    },
    {
     "name": "stdout",
     "output_type": "stream",
     "text": [
      "['.', 'data', 'edit_img_b\\\\airplane\\\\10024.jpg']\n"
     ]
    },
    {
     "name": "stderr",
     "output_type": "stream",
     "text": [
      "100% |########################################################################|\n"
     ]
    },
    {
     "data": {
      "text/plain": [
       "<matplotlib.image.AxesImage at 0x20d8fb04f60>"
      ]
     },
     "execution_count": 43,
     "metadata": {},
     "output_type": "execute_result"
    },
    {
     "data": {
      "image/png": "[encoded data removed]",
      "text/plain": [
       "<Figure size 432x288 with 1 Axes>"
      ]
     },
     "metadata": {
      "needs_background": "light"
     },
     "output_type": "display_data"
    }
   ],
   "source": [
    "x, y = train_data[3]\n",
    "x = tf(unorm(x))\n",
    "t, m = stack_xai.explain(x, XAI = 'LIME', n_seg = 100, n_samples = 100)\n",
    "plt.imshow(t)"
   ]
  },
  {
   "cell_type": "code",
   "execution_count": null,
   "id": "d9df09fa-834d-4e1b-b696-ed60372a7db8",
   "metadata": {},
   "outputs": [],
   "source": []
  }
 ],
 "metadata": {
  "kernelspec": {
   "display_name": "Python 3",
   "language": "python",
   "name": "python3"
  },
  "language_info": {
   "codemirror_mode": {
    "name": "ipython",
    "version": 3
   },
   "file_extension": ".py",
   "mimetype": "text/x-python",
   "name": "python",
   "nbconvert_exporter": "python",
   "pygments_lexer": "ipython3",
   "version": "3.6.13"
  }
 },
 "nbformat": 4,
 "nbformat_minor": 5
}
